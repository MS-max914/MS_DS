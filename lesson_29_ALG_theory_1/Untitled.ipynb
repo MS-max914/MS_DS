{
 "cells": [
  {
   "cell_type": "code",
   "execution_count": null,
   "metadata": {},
   "outputs": [],
   "source": [
    "# Домашнее задание \"Теория вероятности. Дискретные Случайные Величины\".\n",
    "# Уровень 0:\n",
    "# •\tЗадание 1:\n",
    "# Монетку подбрасывают 15 раз, найдите вероятность выпадения простого числа орлов.\n",
    "# •\tЗадание 2:\n",
    "# Создайте свою дискретную случайную величину с не менее, чем 10 значениями. Просемплируйте 1000 случайных значений, постройте гистограмму плотности распределения по выборке, посчитайте среднее, дисперсию и медиану.\n",
    "# Уровень 1:\n",
    "# •\tЗадание 3:\n",
    "# Пусть брошены 3 уравновешенные монеты.\n",
    "# Рассмотрим 3 события:\n",
    "# A1 - монеты 1 и 2 упали одной и той же стороной;\n",
    "# A2 - монеты 2 и 3 упали одной и той же стороной;\n",
    "# A3 - монеты 1 и 3 упали одной и той же стороной.\n",
    "# Покажите, почему эти 3 события (A1, A2, A3) являются попарно независимыми, но не являются независимыми в совокупности.\n",
    "# •\tЗадание 4 (формула полной вероятности):\n",
    "# В магазин привезли устройства с 3-х разных предприятий.\n",
    "# Соотношение устройств следующее: 20% - продукция первого предприятия, 30% - продукция второго предприятия, 50% - продукция третьего предприятия; далее, 10% продукции первого предприятия высшего сорта, на втором предприятии - 5% и на третьем - 20% продукции высшего сорта.\n",
    "# Найти вероятность того, что случайно купленная новая продукция окажется высшего сорта.\n"
   ]
  },
  {
   "cell_type": "code",
   "execution_count": null,
   "metadata": {},
   "outputs": [],
   "source": [
    "# 2, 3, 5, 7, 11, 13 — всего 6 простых чисел в диапазоне от 1 до 15\n",
    "# Простое число делится на 1 и само на себя "
   ]
  },
  {
   "cell_type": "code",
   "execution_count": 3,
   "metadata": {},
   "outputs": [],
   "source": [
    "import numpy as np\n",
    "import math"
   ]
  },
  {
   "cell_type": "code",
   "execution_count": 158,
   "metadata": {},
   "outputs": [
    {
     "name": "stdout",
     "output_type": "stream",
     "text": [
      "0.3499755859375\n"
     ]
    }
   ],
   "source": [
    "p=0.5\n",
    "q=0.5\n",
    "n=15\n",
    "P=0\n",
    "number=[2, 3, 5, 7, 11, 13]\n",
    "\n",
    "for k in number:\n",
    "    Cn_k = math.factorial(n)/(math.factorial(n-k) * math.factorial(k))\n",
    "    Pn = Cn_k * p**k * q**(n-k)\n",
    "    P+=Pn\n",
    "print(P)"
   ]
  },
  {
   "cell_type": "code",
   "execution_count": null,
   "metadata": {},
   "outputs": [],
   "source": [
    "# •\tЗадание 2:\n",
    "# Создайте свою дискретную случайную величину с не менее, чем 10 значениями.\n",
    "# Просемплируйте 1000 случайных значений, постройте гистограмму \n",
    "# плотности распределения по выборке, посчитайте среднее, дисперсию и медиану."
   ]
  },
  {
   "cell_type": "code",
   "execution_count": 7,
   "metadata": {},
   "outputs": [
    {
     "data": {
      "text/plain": [
       "(array([ 93.,  85.,   0.,  97.,   0., 102.,  92.,   0., 109.,   0., 119.,\n",
       "         92.,   0., 104., 107.]),\n",
       " array([ 5. ,  5.6,  6.2,  6.8,  7.4,  8. ,  8.6,  9.2,  9.8, 10.4, 11. ,\n",
       "        11.6, 12.2, 12.8, 13.4, 14. ]),\n",
       " <BarContainer object of 15 artists>)"
      ]
     },
     "execution_count": 7,
     "metadata": {},
     "output_type": "execute_result"
    },
    {
     "data": {
      "image/png": "[encoded data removed]",
      "text/plain": [
       "<Figure size 432x288 with 1 Axes>"
      ]
     },
     "metadata": {
      "needs_background": "light"
     },
     "output_type": "display_data"
    }
   ],
   "source": [
    "import matplotlib.pyplot as plt\n",
    "import random\n",
    "fun = np.random.randint(5, 15, 1000)\n",
    "fun\n",
    "plt.hist(fun, bins=15)"
   ]
  },
  {
   "cell_type": "code",
   "execution_count": 8,
   "metadata": {},
   "outputs": [
    {
     "data": {
      "text/plain": [
       "8.071199"
      ]
     },
     "execution_count": 8,
     "metadata": {},
     "output_type": "execute_result"
    }
   ],
   "source": [
    "fun.var()"
   ]
  },
  {
   "cell_type": "code",
   "execution_count": 9,
   "metadata": {},
   "outputs": [
    {
     "data": {
      "text/plain": [
       "10.0"
      ]
     },
     "execution_count": 9,
     "metadata": {},
     "output_type": "execute_result"
    }
   ],
   "source": [
    "np.median(fun)"
   ]
  },
  {
   "cell_type": "code",
   "execution_count": 10,
   "metadata": {},
   "outputs": [
    {
     "data": {
      "text/plain": [
       "9.651"
      ]
     },
     "execution_count": 10,
     "metadata": {},
     "output_type": "execute_result"
    }
   ],
   "source": [
    "fun.mean()"
   ]
  },
  {
   "cell_type": "code",
   "execution_count": null,
   "metadata": {},
   "outputs": [],
   "source": [
    "•\tЗадание 4 (формула полной вероятности):\n",
    "В магазин привезли устройства с 3-х разных предприятий.\n",
    "Соотношение устройств следующее: 20% - продукция первого предприятия, 30% - продукция второго предприятия,\n",
    "50% - продукция третьего предприятия; далее, 10% продукции первого предприятия высшего сорта,\n",
    "на втором предприятии - 5% и на третьем - 20% продукции высшего сорта.\n",
    "Найти вероятность того, что случайно купленная новая продукция окажется высшего сорта."
   ]
  },
  {
   "cell_type": "code",
   "execution_count": null,
   "metadata": {},
   "outputs": [],
   "source": [
    "вероятность события равна сумме вероятностей входящих в него элементарных исходов.\n"
   ]
  },
  {
   "cell_type": "code",
   "execution_count": null,
   "metadata": {},
   "outputs": [],
   "source": [
    "0.2, 0.3, 0.5 - соотношение выпуска продукции предприятиями 1, 2, 3\n",
    "0.1, 0.05, 0.2  -  соотношение проукции высшего сорта\n",
    "в общем объеме для каждого предприятия (предприятие 1, предприятияе 2,  предприятияе 3)"
   ]
  },
  {
   "cell_type": "code",
   "execution_count": null,
   "metadata": {},
   "outputs": [],
   "source": [
    "Общая вероятность равна сумме вероятностей наступления событий ."
   ]
  },
  {
   "cell_type": "code",
   "execution_count": 11,
   "metadata": {},
   "outputs": [
    {
     "name": "stdout",
     "output_type": "stream",
     "text": [
      "0.135\n"
     ]
    }
   ],
   "source": [
    "P = 0.2*0.1+0.3*0.05+0.5*0.2\n",
    "\n",
    "print(P)"
   ]
  }
 ],
 "metadata": {
  "kernelspec": {
   "display_name": "Python 3",
   "language": "python",
   "name": "python3"
  },
  "language_info": {
   "codemirror_mode": {
    "name": "ipython",
    "version": 3
   },
   "file_extension": ".py",
   "mimetype": "text/x-python",
   "name": "python",
   "nbconvert_exporter": "python",
   "pygments_lexer": "ipython3",
   "version": "3.8.5"
  }
 },
 "nbformat": 4,
 "nbformat_minor": 4
}
