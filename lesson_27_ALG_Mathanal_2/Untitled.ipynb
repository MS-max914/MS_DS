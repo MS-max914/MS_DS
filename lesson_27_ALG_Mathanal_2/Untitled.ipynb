{
 "cells": [
  {
   "cell_type": "code",
   "execution_count": null,
   "metadata": {},
   "outputs": [],
   "source": [
    "Домашнее задание \"Производная функции нескольких аргументов\"."
   ]
  },
  {
   "cell_type": "code",
   "execution_count": null,
   "metadata": {},
   "outputs": [],
   "source": [
    "Уровень 0:\n",
    "Посчитайте частные производные функций:"
   ]
  },
  {
   "cell_type": "code",
   "execution_count": null,
   "metadata": {},
   "outputs": [],
   "source": [
    "1)  𝑓(𝑥,𝑦)=2𝑥2𝑦3+1/𝑥+𝑦2𝑥+7 , а для этой функции также градиент в точке  (1,2) \n",
    "2)  𝑓(𝑥,𝑦)=𝑥2𝑦−𝑠𝑖𝑛(𝑥𝑦)+𝑐𝑜𝑠(𝑥2)+6𝑦"
   ]
  },
  {
   "cell_type": "code",
   "execution_count": 9,
   "metadata": {},
   "outputs": [],
   "source": [
    "import numpy as np\n",
    "from scipy.optimize import approx_fprime\n",
    "import math"
   ]
  },
  {
   "cell_type": "code",
   "execution_count": 18,
   "metadata": {},
   "outputs": [],
   "source": [
    "from sympy import * \n",
    "x, y = symbols('x y')"
   ]
  },
  {
   "cell_type": "code",
   "execution_count": 7,
   "metadata": {},
   "outputs": [
    {
     "name": "stdout",
     "output_type": "stream",
     "text": [
      "Для выражения 𝑓(𝑥,𝑦)=2𝑥2𝑦3+1/𝑥+𝑦2𝑥+7 частная производная по х:  4*x*y**3 + y**2 - 1/x**2 , частная производная по y:  6*x**2*y**2 + 2*x*y\n"
     ]
    }
   ],
   "source": [
    "exp = (2*x**2*y**3) + 1/x + y**2*x + 7 \n",
    "\n",
    "print(\"Для выражения 𝑓(𝑥,𝑦)=2𝑥2𝑦3+1/𝑥+𝑦2𝑥+7 частная производная по х: \", diff(exp, x), \", частная производная по y: \", diff(exp, y))"
   ]
  },
  {
   "cell_type": "code",
   "execution_count": 13,
   "metadata": {},
   "outputs": [],
   "source": [
    "def func (x):\n",
    "    return (2*x[0]**2*x[1]**3) + 1/x[0] + x[1]**2*x[0] + 7"
   ]
  },
  {
   "cell_type": "code",
   "execution_count": 14,
   "metadata": {},
   "outputs": [
    {
     "data": {
      "text/plain": [
       "array([35.00000024, 28.00000024])"
      ]
     },
     "execution_count": 14,
     "metadata": {},
     "output_type": "execute_result"
    }
   ],
   "source": [
    "x = np.array([1, 2])\n",
    "eps = np.sqrt(np.finfo(float).eps)\n",
    "approx_fprime(x, func, [eps, eps])"
   ]
  },
  {
   "cell_type": "code",
   "execution_count": 19,
   "metadata": {},
   "outputs": [
    {
     "name": "stdout",
     "output_type": "stream",
     "text": [
      "Для выражения 𝑓(𝑥,𝑦)=𝑥2𝑦−𝑠𝑖𝑛(𝑥𝑦)+𝑐𝑜𝑠(𝑥2)+6𝑦 частная производная по х:  2*x*y - 2*x*sin(x**2) - y*cos(x*y) , частная производная по y:  x**2 - x*cos(x*y) + 6\n"
     ]
    }
   ],
   "source": [
    "exp = x**2*y - sin(x*y) + cos(x**2) + 6*y  \n",
    "    \n",
    "print(\"Для выражения 𝑓(𝑥,𝑦)=𝑥2𝑦−𝑠𝑖𝑛(𝑥𝑦)+𝑐𝑜𝑠(𝑥2)+6𝑦 частная производная по х: \", diff(exp, x), \", частная производная по y: \", diff(exp, y))"
   ]
  },
  {
   "cell_type": "code",
   "execution_count": null,
   "metadata": {},
   "outputs": [],
   "source": []
  },
  {
   "cell_type": "code",
   "execution_count": null,
   "metadata": {},
   "outputs": [],
   "source": [
    "Уровень 1:¶\n",
    "Градиентный спуск своими руками"
   ]
  },
  {
   "cell_type": "code",
   "execution_count": null,
   "metadata": {},
   "outputs": [],
   "source": [
    "def f(x):\n",
    "    return (x[0]**2) + (x[1]**2)"
   ]
  },
  {
   "cell_type": "code",
   "execution_count": null,
   "metadata": {},
   "outputs": [],
   "source": [
    "x = np.array([100, 200])\n",
    "learning_rate = 0.1"
   ]
  },
  {
   "cell_type": "code",
   "execution_count": null,
   "metadata": {},
   "outputs": [],
   "source": [
    "for i in range(100):\n",
    "    # Calculate gradient\n",
    "    grad = # Your code here (функция для вычисления градиента есть в лекционном ноутбуке)\n",
    "    \n",
    "    # Update x with gradient\n",
    "    x = # Your code here (смотри слайд презентации про градиентный спуск)"
   ]
  },
  {
   "cell_type": "code",
   "execution_count": null,
   "metadata": {},
   "outputs": [],
   "source": [
    "print(\"Минимум достигается в: \", x)\n",
    "print(\"Значение функции в минимуме: \", f(x))"
   ]
  },
  {
   "cell_type": "code",
   "execution_count": null,
   "metadata": {},
   "outputs": [],
   "source": [
    "Проверка с помощью встроенной функции numpy:"
   ]
  }
 ],
 "metadata": {
  "kernelspec": {
   "display_name": "Python 3",
   "language": "python",
   "name": "python3"
  },
  "language_info": {
   "codemirror_mode": {
    "name": "ipython",
    "version": 3
   },
   "file_extension": ".py",
   "mimetype": "text/x-python",
   "name": "python",
   "nbconvert_exporter": "python",
   "pygments_lexer": "ipython3",
   "version": "3.8.5"
  }
 },
 "nbformat": 4,
 "nbformat_minor": 4
}
