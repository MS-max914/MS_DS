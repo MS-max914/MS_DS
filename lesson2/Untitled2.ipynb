{
 "cells": [
  {
   "cell_type": "code",
   "execution_count": 116,
   "metadata": {},
   "outputs": [
    {
     "name": "stdout",
     "output_type": "stream",
     "text": [
      "[('Alex', 'Emma'), ('Arthur', 'Kate'), ('John', 'Kira'), ('Peter', 'Liza'), ('Richard', 'Trisha')]\n"
     ]
    }
   ],
   "source": [
    "# Задание три\n",
    "boys_list = [\"Peter\",\"Alex\",\"John\",\"Arthur\",\"Richard\"]\n",
    "girls_list = [\"Kate\", \"Liza\", \"Kira\", \"Emma\", \"Trisha\"]\n",
    "name_by_para = zip (sorted (boys_list),sorted (girls_list) )\n",
    "if  len (boys_list) == len (girls_list):\n",
    "    print (list (name_by_para))\n",
    "elif len(boys_list) != len(girls_list):\n",
    "    print ('Внимание, кто-то может остаться без пары!')\n",
    "\n",
    "   "
   ]
  },
  {
   "cell_type": "code",
   "execution_count": 6,
   "metadata": {},
   "outputs": [
    {
     "name": "stdout",
     "output_type": "stream",
     "text": [
      "Введите число2\n",
      "Введите число3\n",
      "Введите число5\n",
      "Введите число0\n",
      "10\n"
     ]
    }
   ],
   "source": [
    "#задание два\n",
    "s=0\n",
    "number_input = int(input('Введите число'))\n",
    "while number_input !=0:\n",
    "    s = s + number_input\n",
    "    number_input  = int(input('Введите число'))\n",
    "else:\n",
    "    print (s)"
   ]
  },
  {
   "cell_type": "code",
   "execution_count": 31,
   "metadata": {},
   "outputs": [
    {
     "name": "stdout",
     "output_type": "stream",
     "text": [
      "Ведите словоqazws\n",
      "z\n"
     ]
    }
   ],
   "source": [
    "# задание один\n",
    "word = input('Ведите слово')\n",
    "word1 = len(word)/2\n",
    "if word1 % 2 ==0:\n",
    "    print (word[int(word1)-1:int(word1)+1])\n",
    "if word1 % 2 !=0:\n",
    "    print (word[int(word1)])\n"
   ]
  },
  {
   "cell_type": "code",
   "execution_count": 18,
   "metadata": {},
   "outputs": [
    {
     "name": "stdout",
     "output_type": "stream",
     "text": [
      "Thailand - 23.9 C\n",
      "Germany - 13.8 C\n",
      "Russia - 3.7 C\n",
      "Poland - 12.0 C\n"
     ]
    }
   ],
   "source": [
    "#задание 4\n",
    "countries_temperature = [\n",
    "['Thailand', [75.2, 77, 78.8, 73.4, 68, 75.2, 77]],\n",
    "['Germany', [57.2, 55.4, 59, 59, 53.6]],\n",
    "['Russia', [35.6, 37.4, 39.2, 41, 42.8, 39.2, 35.6]],\n",
    "['Poland', [50, 50, 53.6, 57.2, 55.4, 55.4]]\n",
    "]\n",
    "for i in countries_temperature:\n",
    "    print(i[0], '-', round((((sum(i[1]) / len(i[1]) - 32)*5) / 9),1),'C')\n",
    "\n"
   ]
  }
 ],
 "metadata": {
  "kernelspec": {
   "display_name": "Python 3",
   "language": "python",
   "name": "python3"
  },
  "language_info": {
   "codemirror_mode": {
    "name": "ipython",
    "version": 3
   },
   "file_extension": ".py",
   "mimetype": "text/x-python",
   "name": "python",
   "nbconvert_exporter": "python",
   "pygments_lexer": "ipython3",
   "version": "3.8.5"
  }
 },
 "nbformat": 4,
 "nbformat_minor": 4
}
