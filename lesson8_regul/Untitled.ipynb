{
 "cells": [
  {
   "cell_type": "code",
   "execution_count": 1,
   "metadata": {},
   "outputs": [],
   "source": [
    "# Задание 1\n",
    "# Напишите функцию, которая принимает на вход строку и проверяет\n",
    "# является ли она валидным транспортным номером (1 буква, 3 цифры, 2 буквы, 2-3 цифры). Обратите внимание, \n",
    "# что не все буквы кириллического алфавита используются в транспортных номерах.\n",
    "\n",
    "# Если номер валиден, то функция должна возвращать отдельно номер и регион.\n",
    "\n",
    "# Примеры работы программы:\n",
    "\n",
    "# car_id = 'А222BС96’\n",
    "# Результат: Номер А222BС валиден. Регион: 96\n",
    "\n",
    "# car_id = 'АБ22ВВ193’\n",
    "# Результат: Номер не валиден"
   ]
  },
  {
   "cell_type": "code",
   "execution_count": 6,
   "metadata": {},
   "outputs": [
    {
     "data": {
      "text/plain": [
       "('Т625ТС', '177')"
      ]
     },
     "execution_count": 6,
     "metadata": {},
     "output_type": "execute_result"
    }
   ],
   "source": [
    "import re\n",
    "def car_number_check(inp_number):\n",
    "    search_rule = r'[ABEKMHOPCTYXАВЕКМНОРСТУХ]\\d{3}[ABEKMHOPCTYXАВЕКМНОРСТУХ]{2}\\d{2,3}'  #шаблон поиска\n",
    "    search = re.fullmatch(search_rule, inp_number, flags=re.I)                           #поиск по входным данным\n",
    "    if search:                                                                          #если поиск успешен, то выводим номер и регион\n",
    "        return search.group()[0:6], search.group()[6:]\n",
    "    else:\n",
    "        print('Ошибка формата номера или номер отсутвует')\n",
    "\n",
    "car_number_check('Т625ТС177')"
   ]
  },
  {
   "cell_type": "code",
   "execution_count": 2,
   "metadata": {},
   "outputs": [],
   "source": [
    "# Задание 2\n",
    "# Напишите функцию, которая будет удалять все последовательные повторы слов\n",
    "# из заданной строки при помощи регулярных выражений.\n",
    "# Пример работы программы:\n",
    "\n",
    "# some_string = ‘Напишите функцию функцию, которая будет будет будет будет удалять все все все все последовательные \n",
    "# повторы слов из из из из заданной строки строки при помощи регулярных выражений’\n",
    "\n",
    "# Результат: Напишите функцию, которая будет удалять все последовательные повторы \n",
    "#     слов из заданной строки при помощи регулярных выражений."
   ]
  },
  {
   "cell_type": "code",
   "execution_count": null,
   "metadata": {},
   "outputs": [],
   "source": [
    "import re\n",
    "\n",
    "string = 'Напишите функцию функцию, которая будет будет будет будет удалять все все все все последовательные повторы слов из из из из заданной строки строки при помощи регулярных выражений'\n",
    "\n",
    "def del_duplicates(string):\n",
    "    return re.sub(r'(\\w+)(\\s\\1)+', r'\\1', string)\n",
    "\n",
    "\n",
    "del_duplicates(string)"
   ]
  },
  {
   "cell_type": "code",
   "execution_count": 3,
   "metadata": {},
   "outputs": [],
   "source": [
    "# Задание 3\n",
    "# Напишите функцию, которая будет возвращать акроним по переданной в нее строке со словами.\n",
    "\n",
    "# Примеры работы программы:\n",
    "\n",
    "# some_words = 'Информационные технологии’\n",
    "# Результат: ИТ\n",
    "\n",
    "# some_words = 'Near Field Communication’\n",
    "# Результат: NFC"
   ]
  },
  {
   "cell_type": "code",
   "execution_count": null,
   "metadata": {},
   "outputs": [],
   "source": [
    "import re\n",
    "\n",
    "some_words = 'Информационные технологии'\n",
    "some_words2 = 'Near Field Communication'\n",
    "\n",
    "def get_acronym(string):\n",
    "    acronum = ''\n",
    "    res = re.findall(r'(?<!\\S)(\\w)', string)       \n",
    "    \n",
    "    if res:\n",
    "        for char in res:\n",
    "            acronum += char\n",
    "            \n",
    "        print(acronum.upper())\n",
    "        \n",
    "\n",
    "get_acronym(some_words2)"
   ]
  },
  {
   "cell_type": "code",
   "execution_count": 7,
   "metadata": {},
   "outputs": [],
   "source": [
    "# Задание 4\n",
    "# Напишите функцию, которая будет принимать на вход список email-адресов и выводить их распределение по доменным зонам.\n",
    "\n",
    "# Пример работы программы:\n",
    "\n",
    "# emails = [‘test@gmail.com, xyz@test.in, test@ya.ru, xyz@mail.ru, xyz@ya.ru’, xyz@gmail.com]\n",
    "\n",
    "# Результат:\n",
    "# gmail.com: 2\n",
    "# test.in: 1\n",
    "# ya.ru: 2\n",
    "# mail.ru: 1"
   ]
  },
  {
   "cell_type": "code",
   "execution_count": 8,
   "metadata": {},
   "outputs": [
    {
     "name": "stdout",
     "output_type": "stream",
     "text": [
      "gmail.com: 2\n",
      "test.in: 1\n",
      "ya.ru: 2\n",
      "mail.ru: 1\n"
     ]
    }
   ],
   "source": [
    "import re\n",
    "\n",
    "emails = ['test@gmail.com', 'xyz@test.in', 'test@ya.ru', 'xyz@mail.ru', 'xyz@ya.ru', 'xyz@gmail.com']\n",
    "\n",
    "def get_domen_distribution(emails):\n",
    "    distribution = {}\n",
    "    \n",
    "    for email in emails:\n",
    "        res = re.match(r'(\\w+)@(\\w+\\.\\w+)', email).group(2)\n",
    "\n",
    "        if res in distribution:\n",
    "            distribution[res] += 1\n",
    "        else:\n",
    "            distribution[res] = 1\n",
    "        \n",
    "    for domen, num in distribution.items():\n",
    "        print(f'{domen}: {num}')\n",
    "\n",
    "\n",
    "get_domen_distribution(emails)"
   ]
  }
 ],
 "metadata": {
  "kernelspec": {
   "display_name": "Python 3",
   "language": "python",
   "name": "python3"
  },
  "language_info": {
   "codemirror_mode": {
    "name": "ipython",
    "version": 3
   },
   "file_extension": ".py",
   "mimetype": "text/x-python",
   "name": "python",
   "nbconvert_exporter": "python",
   "pygments_lexer": "ipython3",
   "version": "3.8.5"
  }
 },
 "nbformat": 4,
 "nbformat_minor": 4
}
