{
 "cells": [
  {
   "cell_type": "code",
   "execution_count": null,
   "metadata": {},
   "outputs": [],
   "source": [
    "Получить интуицию, на что влияют параметры распределений. \n",
    "Построить по 5 функций плотностей с разными параметрами для каждого распределения: нормальное, экспоненциальное,\n",
    "    Стьюдента на одном графике."
   ]
  },
  {
   "cell_type": "code",
   "execution_count": 50,
   "metadata": {},
   "outputs": [],
   "source": [
    "import pandas as pd\n",
    "import numpy as np\n",
    "import matplotlib.pyplot as plt\n",
    "import scipy.stats as sts\n",
    "import math"
   ]
  },
  {
   "cell_type": "code",
   "execution_count": 18,
   "metadata": {},
   "outputs": [
    {
     "data": {
      "text/plain": [
       "array([1.43819705, 2.19845162, 1.49459753, 1.57189839, 1.43263849,\n",
       "       1.21122906, 1.50619195, 1.796379  , 0.58765822, 1.68340675,\n",
       "       2.19740776, 1.46474324, 0.96096267, 1.68566507, 1.19891974,\n",
       "       1.22494592, 0.72079728, 1.2796315 , 1.30420686, 1.97630142])"
      ]
     },
     "execution_count": 18,
     "metadata": {},
     "output_type": "execute_result"
    }
   ],
   "source": [
    "#нормальное распределение\n",
    "# среднее значение \n",
    "mu = 1.5\n",
    "# величина отклонения от среднего значения \n",
    "sigma = 0.4\n",
    "norm_1 = sts.norm(loc=mu, scale=sigma)\n",
    "# сгенерируем 20 значений \n",
    "norm_1.rvs(size=20)\n",
    "\n",
    "\n",
    "# где µ - это среднее значение (в данном пример 12.00),σ2- величина отклонения от среднего значения\n",
    "\n",
    "# Параметр loc задает - mu, scale -среднеквадратичное отклонение сигма, size - размер выборки , \n",
    "# имя параметра size при вызове функции rvs  можно не писать."
   ]
  },
  {
   "cell_type": "code",
   "execution_count": 53,
   "metadata": {},
   "outputs": [
    {
     "data": {
      "text/plain": [
       "array([0.1673651 , 0.31305418, 0.51904624, 0.77540059, 0.38759503,\n",
       "       1.38388084, 2.87773559, 0.13025969, 1.20091276, 0.77410367,\n",
       "       1.04695805, 0.18167161, 0.41338962, 1.73574445, 0.46715663,\n",
       "       4.23377849, 1.95563598, 2.70131335, 1.62123449, 0.87627459])"
      ]
     },
     "execution_count": 53,
     "metadata": {},
     "output_type": "execute_result"
    }
   ],
   "source": [
    "#экспоненциальное распределение\n",
    "lam = 0.1\n",
    "expon_rv_1 = sts.expon(lam)\n",
    "expon_rv_1.rvs(20)\n",
    "\n",
    "# λ описывает среднее число наступлений события в единицу времени. Обычно с помощью этого закона описывают:\n",
    "# ● продолжительность обслуживания покупателя\n",
    "# ● время жизни оборудования до отказа\n",
    "# ● промежуток времени между поломками"
   ]
  },
  {
   "cell_type": "code",
   "execution_count": 10,
   "metadata": {},
   "outputs": [
    {
     "data": {
      "text/plain": [
       "array([ 0.40033106,  0.22369741,  0.8017564 ,  0.89460457,  0.64251879,\n",
       "        1.83813202,  0.17464312,  1.35268939,  0.7795276 , -0.76066629,\n",
       "        0.52809602,  0.5434085 ,  3.19024463,  0.99837588,  2.05771363,\n",
       "        0.27055903, -1.85694805,  0.29461399, -0.0212981 , -2.94361369])"
      ]
     },
     "execution_count": 10,
     "metadata": {},
     "output_type": "execute_result"
    }
   ],
   "source": [
    "#распределение Стьюдента\n",
    "n = 10\n",
    "t_rv_1 = sts.t(n)\n",
    "t_rv_1.rvs(20)\n",
    "\n",
    "# Имеет распределение Стьюдента с n степенями свободы (количество случайных величин, взятых для подсчета суммы)."
   ]
  },
  {
   "cell_type": "code",
   "execution_count": 13,
   "metadata": {},
   "outputs": [
    {
     "data": {
      "image/png": "[encoded data removed]",
      "text/plain": [
       "<Figure size 432x288 with 1 Axes>"
      ]
     },
     "metadata": {
      "needs_background": "light"
     },
     "output_type": "display_data"
    }
   ],
   "source": [
    "#  сетка координат\n",
    "x = np.linspace(-5,5,100) \n",
    "\n",
    "pdf_n = norm_1.pdf(x)\n",
    "pdf_e = expon_rv_1.pdf(x)\n",
    "pdf_s = t_rv_1.pdf(x)\n",
    "\n",
    "plt.plot(x, pdf_n)\n",
    "plt.plot(x, pdf_e)\n",
    "plt.plot(x, pdf_s)\n",
    "\n",
    "plt.ylabel('$f(x)$')\n",
    "plt.xlabel('$x$')\n",
    "plt.show()"
   ]
  },
  {
   "cell_type": "code",
   "execution_count": 79,
   "metadata": {},
   "outputs": [
    {
     "data": {
      "text/plain": [
       "array([3.96929455, 3.35612397, 4.8159989 , 4.09243483, 3.09978913,\n",
       "       4.2077709 , 3.50049452, 3.61574803, 3.65046653, 4.4623996 ,\n",
       "       4.24546474, 4.62119396, 3.73430305, 3.4143752 , 4.14077301,\n",
       "       3.92747016, 3.84190572, 4.90405088, 4.99454654, 4.0699699 ])"
      ]
     },
     "execution_count": 79,
     "metadata": {},
     "output_type": "execute_result"
    }
   ],
   "source": [
    "#нормальное распределение\n",
    "# среднее значение \n",
    "mu = 4\n",
    "# величина отклонения от среднего значения \n",
    "sigma =0.5\n",
    "norm_2 = sts.norm(loc=mu, scale=sigma)\n",
    "# сгенерируем 20 значений \n",
    "norm_2.rvs(size=20)\n",
    "\n",
    "# Параметр loc задает - mu, scale -среднеквадратичное отклонение сигма, size - размер выборки , \n",
    "# имя параметра size при вызове функции rvs  можно не писать"
   ]
  },
  {
   "cell_type": "code",
   "execution_count": 76,
   "metadata": {},
   "outputs": [
    {
     "data": {
      "text/plain": [
       "array([-1.58216947, -1.99241485, -1.95554669, -1.73700815,  0.56117266,\n",
       "       -1.87783662, -1.42483855, -1.56527511, -1.80500573, -0.30890285,\n",
       "        0.18850256, -1.17830782, -1.88059141, -0.78896061, -1.91218513,\n",
       "        1.05481199, -1.54780701, -1.89217313, -0.6607253 ,  0.33626298])"
      ]
     },
     "execution_count": 76,
     "metadata": {},
     "output_type": "execute_result"
    }
   ],
   "source": [
    "#экспоненциальное распределение\n",
    "lam = -2\n",
    "expon_rv_2 = sts.expon(lam)\n",
    "expon_rv_2.rvs(20)\n",
    "\n",
    "# λ описывает среднее число наступлений события в единицу времени. Обычно с помощью этого закона описывают:\n",
    "# ● продолжительность обслуживания покупателя\n",
    "# ● время жизни оборудования до отказа\n",
    "# ● промежуток времени между поломками"
   ]
  },
  {
   "cell_type": "code",
   "execution_count": 68,
   "metadata": {},
   "outputs": [
    {
     "data": {
      "text/plain": [
       "array([-0.54900596,  0.01096381,  0.85521499, -0.53450508, -1.05373115,\n",
       "       -0.12778209, -0.58213583, -0.1662667 ,  1.44155421, -0.25996042,\n",
       "        0.46387571, -1.21153358,  0.17624659,  0.80794764, -1.77340775,\n",
       "       -0.09429162, -1.46265572, -0.20797595,  2.21209034,  0.97745141])"
      ]
     },
     "execution_count": 68,
     "metadata": {},
     "output_type": "execute_result"
    }
   ],
   "source": [
    "#распределение Стьюдента\n",
    "n = 100\n",
    "t_rv_2 = sts.t(n)\n",
    "t_rv_2.rvs(20)\n",
    "\n",
    "# Имеет распределение Стьюдента с n степенями свободы (количество случайных величин, взятых для подсчета суммы)."
   ]
  },
  {
   "cell_type": "code",
   "execution_count": 80,
   "metadata": {},
   "outputs": [
    {
     "data": {
      "image/png": "[encoded data removed]",
      "text/plain": [
       "<Figure size 432x288 with 1 Axes>"
      ]
     },
     "metadata": {
      "needs_background": "light"
     },
     "output_type": "display_data"
    }
   ],
   "source": [
    "#  сетка координат\n",
    "x = np.linspace(-10,10,100) \n",
    "\n",
    "pdf_n = norm_2.pdf(x)\n",
    "pdf_e = expon_rv_2.pdf(x)\n",
    "pdf_s = t_rv_2.pdf(x)\n",
    "\n",
    "plt.plot(x, pdf_n)\n",
    "plt.plot(x, pdf_e)\n",
    "plt.plot(x, pdf_s)\n",
    "\n",
    "plt.ylabel('$f(x)$')\n",
    "plt.xlabel('$x$')\n",
    "plt.show()"
   ]
  },
  {
   "cell_type": "code",
   "execution_count": null,
   "metadata": {},
   "outputs": [],
   "source": [
    "# На распределение Стьюдента параметр n вообще не влияет \n",
    "# На экспонициальное распределение параметр lam сдвигает график по оси х либо вправо, \n",
    "# увеличивая вероятность, либо влево, уменьшая вероятность \n",
    "# При нормальном распределении, чем меньше отклонение, тем график более сжат, значения стремяться к среднему значению\n"
   ]
  },
  {
   "cell_type": "code",
   "execution_count": null,
   "metadata": {},
   "outputs": [],
   "source": [
    "# Задание 3\n",
    "\n",
    "# Известно, что светофор горит 54 секунды красным, 4 секунды жёлтым и 28 секунд зелёным.\n",
    "# Посчитайте, какое количество информации несёт сообщение о цвете светофора в текущий момент. \n",
    "# А что будет в случае 28, 28 и 28 секунд для каждого цвета?"
   ]
  },
  {
   "cell_type": "code",
   "execution_count": 84,
   "metadata": {},
   "outputs": [
    {
     "name": "stdout",
     "output_type": "stream",
     "text": [
      "1.154522162441165\n"
     ]
    }
   ],
   "source": [
    "# total_info — количество информации\n",
    "# p — вероятность того что это события случиться\n",
    "# red, yellow, green - интересующее нас событие \n",
    "\n",
    "red = 54\n",
    "yellow = 4\n",
    "green = 28\n",
    "total_info = red + yellow + green\n",
    "p_r = red/total_info\n",
    "p_y = yellow/total_info\n",
    "p_g = green/total_info\n",
    "\n",
    "# Используем формулу Шеннона\n",
    "\n",
    "I = -(p_r * math.log2(p_r) + p_y * math.log2(p_y) + p_g * math.log2(p_g))\n",
    "print(I)"
   ]
  },
  {
   "cell_type": "code",
   "execution_count": 85,
   "metadata": {},
   "outputs": [
    {
     "name": "stdout",
     "output_type": "stream",
     "text": [
      "1.584962500721156\n"
     ]
    }
   ],
   "source": [
    "# total_info — количество информации\n",
    "# p — вероятность того что это события случиться\n",
    "# red, yellow, green - интересующее нас событие \n",
    "\n",
    "red = 28\n",
    "yellow = 28\n",
    "green = 28\n",
    "total_info = red + yellow + green\n",
    "p_r = red/total_info\n",
    "p_y = yellow/total_info\n",
    "p_g = green/total_info\n",
    "\n",
    "# Используем формулу Шеннона\n",
    "\n",
    "I = -(p_r * math.log2(p_r) + p_y * math.log2(p_y) + p_g * math.log2(p_g))\n",
    "print(I)"
   ]
  }
 ],
 "metadata": {
  "kernelspec": {
   "display_name": "Python 3",
   "language": "python",
   "name": "python3"
  },
  "language_info": {
   "codemirror_mode": {
    "name": "ipython",
    "version": 3
   },
   "file_extension": ".py",
   "mimetype": "text/x-python",
   "name": "python",
   "nbconvert_exporter": "python",
   "pygments_lexer": "ipython3",
   "version": "3.8.5"
  }
 },
 "nbformat": 4,
 "nbformat_minor": 4
}
