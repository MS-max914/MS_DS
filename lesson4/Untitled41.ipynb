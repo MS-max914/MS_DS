{
 "cells": [
  {
   "cell_type": "code",
   "execution_count": 20,
   "metadata": {},
   "outputs": [],
   "source": [
    "documents = [\n",
    "    {'type': 'passport', 'number': '2207 876234', 'name': 'Василий Гупкин'},\n",
    "    {'type': 'invoice', 'number': '11-2', 'name': 'Геннадий Покемонов'},\n",
    "    {'type': 'insurance', 'number': '10006', 'name': 'Аристарх Павлов'}\n",
    "]\n",
    "\n",
    "directories = {\n",
    "    '1': ['2207 876234', '11-2'],\n",
    "    '2': ['10006'],\n",
    "    '3': []\n",
    "}"
   ]
  },
  {
   "cell_type": "code",
   "execution_count": 21,
   "metadata": {},
   "outputs": [
    {
     "data": {
      "text/plain": [
       "'Документ не найден в базе'"
      ]
     },
     "execution_count": 21,
     "metadata": {},
     "output_type": "execute_result"
    }
   ],
   "source": [
    "def find_owner(number):\n",
    "    res = 'Документ не найден в базе'\n",
    "    for i in documents:\n",
    "        if i['number'] == number:\n",
    "            res = 'Владелец документа: ' + i['name']\n",
    "    return(res)\n",
    "\n",
    "find_owner(documents)"
   ]
  },
  {
   "cell_type": "code",
   "execution_count": 22,
   "metadata": {},
   "outputs": [
    {
     "data": {
      "text/plain": [
       "'Документ не найден в базе'"
      ]
     },
     "execution_count": 22,
     "metadata": {},
     "output_type": "execute_result"
    }
   ],
   "source": [
    "# Задание 2\n",
    "# Пользователь по команде “s” может по номеру документа узнать на какой полке он хранится\n",
    "\n",
    "\n",
    "def shelf(number):\n",
    "    res = 'Документ не найден в базе'\n",
    "    for i in directories:\n",
    "        if number in directories[i]:\n",
    "             res = 'Документ хранится на полке:' + i\n",
    "    return res\n",
    "\n",
    "shelf(directories)"
   ]
  },
  {
   "cell_type": "code",
   "execution_count": 23,
   "metadata": {},
   "outputs": [
    {
     "name": "stdout",
     "output_type": "stream",
     "text": [
      "№: 2207 876234, тип: passport, владелец: Василий Гупкин, полка хранения: 1\n",
      "№: 11-2, тип: invoice, владелец: Геннадий Покемонов, полка хранения: 1\n",
      "№: 10006, тип: insurance, владелец: Аристарх Павлов, полка хранения: 2\n"
     ]
    }
   ],
   "source": [
    "# #задание 3 введите команду L \n",
    "\n",
    "def info(documents, directories):\n",
    "    for shelf, cont in directories.items():\n",
    "        for doc in documents:\n",
    "            if doc['number'] in cont:\n",
    "                print(f\"№: {doc['number']}, тип: {doc['type']}, владелец: {doc['name']}, полка хранения: {shelf}\")\n",
    "\n",
    "\n",
    "info(documents,directories)\n"
   ]
  },
  {
   "cell_type": "code",
   "execution_count": 24,
   "metadata": {},
   "outputs": [],
   "source": [
    "# #задание 3 введите команду L \n",
    "# def info():\n",
    "#     for shelf in directories:\n",
    "#         for num in directories[shelf]:\n",
    "#             found = next(e for e in documents if e['number']==num)\n",
    "#             return(f'№: {num}, тип:{found[\"type\"]}, владелец:{found[\"name\"]}, полка хранения: {shelf}')\n",
    "\n",
    "\n",
    "# info()\n",
    "\n",
    "\n",
    "# shelf(directories)   \n"
   ]
  },
  {
   "cell_type": "code",
   "execution_count": 25,
   "metadata": {},
   "outputs": [
    {
     "ename": "TypeError",
     "evalue": "unhashable type: 'dict'",
     "output_type": "error",
     "traceback": [
      "\u001b[1;31m---------------------------------------------------------------------------\u001b[0m",
      "\u001b[1;31mTypeError\u001b[0m                                 Traceback (most recent call last)",
      "\u001b[1;32m<ipython-input-25-f68daa1e11a6>\u001b[0m in \u001b[0;36m<module>\u001b[1;34m\u001b[0m\n\u001b[0;32m     11\u001b[0m \u001b[1;33m\u001b[0m\u001b[0m\n\u001b[0;32m     12\u001b[0m \u001b[1;33m\u001b[0m\u001b[0m\n\u001b[1;32m---> 13\u001b[1;33m \u001b[0madd_shelf\u001b[0m\u001b[1;33m(\u001b[0m\u001b[0mdirectories\u001b[0m\u001b[1;33m)\u001b[0m\u001b[1;33m\u001b[0m\u001b[1;33m\u001b[0m\u001b[0m\n\u001b[0m\u001b[0;32m     14\u001b[0m \u001b[1;33m\u001b[0m\u001b[0m\n\u001b[0;32m     15\u001b[0m \u001b[1;31m# def add_shelf(dirs):\u001b[0m\u001b[1;33m\u001b[0m\u001b[1;33m\u001b[0m\u001b[1;33m\u001b[0m\u001b[0m\n",
      "\u001b[1;32m<ipython-input-25-f68daa1e11a6>\u001b[0m in \u001b[0;36madd_shelf\u001b[1;34m(number)\u001b[0m\n\u001b[0;32m      2\u001b[0m \u001b[1;33m\u001b[0m\u001b[0m\n\u001b[0;32m      3\u001b[0m \u001b[1;32mdef\u001b[0m \u001b[0madd_shelf\u001b[0m\u001b[1;33m(\u001b[0m\u001b[0mnumber\u001b[0m\u001b[1;33m)\u001b[0m\u001b[1;33m:\u001b[0m\u001b[1;33m\u001b[0m\u001b[1;33m\u001b[0m\u001b[0m\n\u001b[1;32m----> 4\u001b[1;33m     \u001b[1;32mif\u001b[0m \u001b[0mnumber\u001b[0m \u001b[1;32min\u001b[0m \u001b[0mdirectories\u001b[0m\u001b[1;33m:\u001b[0m\u001b[1;33m\u001b[0m\u001b[1;33m\u001b[0m\u001b[0m\n\u001b[0m\u001b[0;32m      5\u001b[0m         \u001b[1;32mreturn\u001b[0m \u001b[1;34m'Такая полка уже существует. Текущий перечень полок:'\u001b[0m \u001b[1;33m+\u001b[0m \u001b[1;34m','\u001b[0m\u001b[1;33m.\u001b[0m\u001b[0mjoin\u001b[0m\u001b[1;33m(\u001b[0m\u001b[0mdirectories\u001b[0m\u001b[1;33m.\u001b[0m\u001b[0mkeys\u001b[0m\u001b[1;33m(\u001b[0m\u001b[1;33m)\u001b[0m\u001b[1;33m)\u001b[0m\u001b[1;33m\u001b[0m\u001b[1;33m\u001b[0m\u001b[0m\n\u001b[0;32m      6\u001b[0m     \u001b[0mdirectories\u001b[0m\u001b[1;33m[\u001b[0m\u001b[0mnumber\u001b[0m\u001b[1;33m]\u001b[0m \u001b[1;33m=\u001b[0m \u001b[1;33m[\u001b[0m\u001b[1;33m]\u001b[0m\u001b[1;33m\u001b[0m\u001b[1;33m\u001b[0m\u001b[0m\n",
      "\u001b[1;31mTypeError\u001b[0m: unhashable type: 'dict'"
     ]
    }
   ],
   "source": [
    "#4 задание\n",
    "\n",
    "def add_shelf(number):\n",
    "    if number in directories:\n",
    "        return 'Такая полка уже существует. Текущий перечень полок:' + ','.join(directories.keys())\n",
    "    directories[number] = []\n",
    "    shelves_list = list(directories.keys())\n",
    "    return 'Полка добавлена. Текущий перечень полок:' + ','.join(directories.keys())\n",
    "\n",
    "\n",
    "\n",
    "\n",
    "add_shelf(directories)\n",
    "\n",
    "# def add_shelf(dirs):\n",
    "#     user_input = input('Введите номер полки, которую хотите добавить: ')\n",
    "#     if user_input in dirs:\n",
    "#         print('Такая полка уже существует. Текущий перечень полок: ', end='')\n",
    "#         print(...)\n",
    "#     else:\n",
    "#         dirs[user_input] = []\n",
    "#         shelves_list = list(dirs.keys())\n",
    "#         print('Полка добавлена. Текущий перечень полок: ', end='')\n",
    "#         print(...)\n",
    "\n",
    "\n",
    "\n"
   ]
  },
  {
   "cell_type": "code",
   "execution_count": 26,
   "metadata": {},
   "outputs": [],
   "source": [
    "# def add_shelf(dirs):\n",
    "#     user_input = input('Введите номер полки, которую хотите добавить: ')\n",
    "#     if user_input in dirs:\n",
    "#         print('Такая полка уже существует. Текущий перечень полок: ', end='')\n",
    "#         print(...)\n",
    "#     else:\n",
    "#         dirs[user_input] = []\n",
    "#         shelves_list = list(dirs.keys())\n",
    "#         print('Полка добавлена. Текущий перечень полок: ', end='')\n",
    "#         print(...)"
   ]
  },
  {
   "cell_type": "code",
   "execution_count": 27,
   "metadata": {},
   "outputs": [
    {
     "ename": "TypeError",
     "evalue": "unhashable type: 'dict'",
     "output_type": "error",
     "traceback": [
      "\u001b[1;31m---------------------------------------------------------------------------\u001b[0m",
      "\u001b[1;31mTypeError\u001b[0m                                 Traceback (most recent call last)",
      "\u001b[1;32m<ipython-input-27-7760fd4ef6c9>\u001b[0m in \u001b[0;36m<module>\u001b[1;34m\u001b[0m\n\u001b[0;32m     12\u001b[0m \u001b[1;33m\u001b[0m\u001b[0m\n\u001b[0;32m     13\u001b[0m \u001b[1;33m\u001b[0m\u001b[0m\n\u001b[1;32m---> 14\u001b[1;33m \u001b[0mrem_shelf\u001b[0m\u001b[1;33m(\u001b[0m\u001b[0mdirectories\u001b[0m\u001b[1;33m)\u001b[0m\u001b[1;33m\u001b[0m\u001b[1;33m\u001b[0m\u001b[0m\n\u001b[0m\u001b[0;32m     15\u001b[0m \u001b[1;33m\u001b[0m\u001b[0m\n",
      "\u001b[1;32m<ipython-input-27-7760fd4ef6c9>\u001b[0m in \u001b[0;36mrem_shelf\u001b[1;34m(number)\u001b[0m\n\u001b[0;32m      1\u001b[0m \u001b[1;31m# задание 5 Пользователь по команде “ds” может удалить существующую полку из данных (только если она пустая)\u001b[0m\u001b[1;33m\u001b[0m\u001b[1;33m\u001b[0m\u001b[1;33m\u001b[0m\u001b[0m\n\u001b[0;32m      2\u001b[0m \u001b[1;32mdef\u001b[0m \u001b[0mrem_shelf\u001b[0m\u001b[1;33m(\u001b[0m\u001b[0mnumber\u001b[0m\u001b[1;33m)\u001b[0m\u001b[1;33m:\u001b[0m\u001b[1;33m\u001b[0m\u001b[1;33m\u001b[0m\u001b[0m\n\u001b[1;32m----> 3\u001b[1;33m     \u001b[1;32mif\u001b[0m \u001b[0mnumber\u001b[0m \u001b[1;32min\u001b[0m \u001b[0mdirectories\u001b[0m\u001b[1;33m:\u001b[0m\u001b[1;33m\u001b[0m\u001b[1;33m\u001b[0m\u001b[0m\n\u001b[0m\u001b[0;32m      4\u001b[0m         \u001b[1;32mif\u001b[0m \u001b[0mlen\u001b[0m\u001b[1;33m(\u001b[0m\u001b[0mdirectories\u001b[0m\u001b[1;33m[\u001b[0m\u001b[0mnumber\u001b[0m\u001b[1;33m]\u001b[0m\u001b[1;33m)\u001b[0m \u001b[1;33m>\u001b[0m \u001b[1;36m0\u001b[0m\u001b[1;33m:\u001b[0m\u001b[1;33m\u001b[0m\u001b[1;33m\u001b[0m\u001b[0m\n\u001b[0;32m      5\u001b[0m             \u001b[1;32mreturn\u001b[0m \u001b[1;34m'На полке есть документа, удалите их перед удалением полки. Текущий перечень полок: '\u001b[0m \u001b[1;33m+\u001b[0m \u001b[1;34m', '\u001b[0m\u001b[1;33m.\u001b[0m\u001b[0mjoin\u001b[0m\u001b[1;33m(\u001b[0m\u001b[0mdirectories\u001b[0m\u001b[1;33m.\u001b[0m\u001b[0mkeys\u001b[0m\u001b[1;33m(\u001b[0m\u001b[1;33m)\u001b[0m\u001b[1;33m)\u001b[0m\u001b[1;33m\u001b[0m\u001b[1;33m\u001b[0m\u001b[0m\n",
      "\u001b[1;31mTypeError\u001b[0m: unhashable type: 'dict'"
     ]
    }
   ],
   "source": [
    "# задание 5 Пользователь по команде “ds” может удалить существующую полку из данных (только если она пустая)\n",
    "def rem_shelf(number):\n",
    "    if number in directories:\n",
    "        if len(directories[number]) > 0:\n",
    "            return 'На полке есть документа, удалите их перед удалением полки. Текущий перечень полок: ' + ', '.join(directories.keys())\n",
    "        del directories[number]\n",
    "        print('Полка удалена. Текущий перечень полок: ' + ', '.join(directories.keys()))\n",
    "    print ('Такой полки не существует. Текущий перечень полок:' + ', '.join(directories.keys()))\n",
    "  \n",
    "    \n",
    "    \n",
    "    \n",
    "    \n",
    "rem_shelf(directories)\n",
    "              \n"
   ]
  },
  {
   "cell_type": "code",
   "execution_count": null,
   "metadata": {},
   "outputs": [],
   "source": [
    "def main(documents, directories):\n",
    "    while True:\n",
    "        user_input = input('Введите команду')\n",
    "        if user_input == 'p':\n",
    "            number = input(\"Введите номер документа: \")\n",
    "            print(find_owner(number))\n",
    "        elif user_input == 's': \n",
    "            number = input(\"Введите номер документа: \")\n",
    "            print(shelf(number))\n",
    "        elif user_input == 'l': \n",
    "            print(info(documents, directories))\n",
    "        elif  user_input == 'as':\n",
    "            number = input(\"Введите номер полки: \")\n",
    "            print(add_shelf(number))\n",
    "        elif user_input == 'ds':\n",
    "            number = input(\"Введите номер полки: \")\n",
    "            print(rem_shelf(number))\n",
    "        elif user_input == 'q':\n",
    "            break\n",
    "\n",
    "            \n",
    "main(documents, directories)\n"
   ]
  },
  {
   "cell_type": "code",
   "execution_count": null,
   "metadata": {},
   "outputs": [],
   "source": []
  },
  {
   "cell_type": "code",
   "execution_count": null,
   "metadata": {},
   "outputs": [],
   "source": []
  }
 ],
 "metadata": {
  "kernelspec": {
   "display_name": "Python 3",
   "language": "python",
   "name": "python3"
  },
  "language_info": {
   "codemirror_mode": {
    "name": "ipython",
    "version": 3
   },
   "file_extension": ".py",
   "mimetype": "text/x-python",
   "name": "python",
   "nbconvert_exporter": "python",
   "pygments_lexer": "ipython3",
   "version": "3.8.5"
  }
 },
 "nbformat": 4,
 "nbformat_minor": 4
}
