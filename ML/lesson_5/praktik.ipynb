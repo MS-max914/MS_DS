{
 "cells": [
  {
   "cell_type": "code",
   "execution_count": 4,
   "metadata": {},
   "outputs": [],
   "source": [
    "import numpy as np\n",
    "import pandas as pd\n",
    "import seaborn as sns\n",
    "\n",
    "from sklearn.linear_model import LinearRegression"
   ]
  },
  {
   "cell_type": "code",
   "execution_count": 16,
   "metadata": {},
   "outputs": [
    {
     "data": {
      "text/html": [
       "<div>\n",
       "<style scoped>\n",
       "    .dataframe tbody tr th:only-of-type {\n",
       "        vertical-align: middle;\n",
       "    }\n",
       "\n",
       "    .dataframe tbody tr th {\n",
       "        vertical-align: top;\n",
       "    }\n",
       "\n",
       "    .dataframe thead th {\n",
       "        text-align: right;\n",
       "    }\n",
       "</style>\n",
       "<table border=\"1\" class=\"dataframe\">\n",
       "  <thead>\n",
       "    <tr style=\"text-align: right;\">\n",
       "      <th></th>\n",
       "      <th>age_garage</th>\n",
       "      <th>length</th>\n",
       "      <th>width</th>\n",
       "      <th>height_ceiling</th>\n",
       "      <th>height_gate</th>\n",
       "      <th>price</th>\n",
       "    </tr>\n",
       "  </thead>\n",
       "  <tbody>\n",
       "    <tr>\n",
       "      <th>0</th>\n",
       "      <td>9</td>\n",
       "      <td>18</td>\n",
       "      <td>15</td>\n",
       "      <td>5</td>\n",
       "      <td>5</td>\n",
       "      <td>10855</td>\n",
       "    </tr>\n",
       "    <tr>\n",
       "      <th>1</th>\n",
       "      <td>10</td>\n",
       "      <td>11</td>\n",
       "      <td>15</td>\n",
       "      <td>4</td>\n",
       "      <td>7</td>\n",
       "      <td>6657</td>\n",
       "    </tr>\n",
       "    <tr>\n",
       "      <th>2</th>\n",
       "      <td>9</td>\n",
       "      <td>15</td>\n",
       "      <td>16</td>\n",
       "      <td>5</td>\n",
       "      <td>5</td>\n",
       "      <td>9655</td>\n",
       "    </tr>\n",
       "    <tr>\n",
       "      <th>3</th>\n",
       "      <td>9</td>\n",
       "      <td>20</td>\n",
       "      <td>15</td>\n",
       "      <td>6</td>\n",
       "      <td>5</td>\n",
       "      <td>12055</td>\n",
       "    </tr>\n",
       "    <tr>\n",
       "      <th>4</th>\n",
       "      <td>12</td>\n",
       "      <td>17</td>\n",
       "      <td>13</td>\n",
       "      <td>5</td>\n",
       "      <td>6</td>\n",
       "      <td>8896</td>\n",
       "    </tr>\n",
       "    <tr>\n",
       "      <th>...</th>\n",
       "      <td>...</td>\n",
       "      <td>...</td>\n",
       "      <td>...</td>\n",
       "      <td>...</td>\n",
       "      <td>...</td>\n",
       "      <td>...</td>\n",
       "    </tr>\n",
       "    <tr>\n",
       "      <th>95</th>\n",
       "      <td>6</td>\n",
       "      <td>20</td>\n",
       "      <td>11</td>\n",
       "      <td>6</td>\n",
       "      <td>7</td>\n",
       "      <td>8857</td>\n",
       "    </tr>\n",
       "    <tr>\n",
       "      <th>96</th>\n",
       "      <td>6</td>\n",
       "      <td>21</td>\n",
       "      <td>16</td>\n",
       "      <td>6</td>\n",
       "      <td>7</td>\n",
       "      <td>13497</td>\n",
       "    </tr>\n",
       "    <tr>\n",
       "      <th>97</th>\n",
       "      <td>8</td>\n",
       "      <td>14</td>\n",
       "      <td>16</td>\n",
       "      <td>6</td>\n",
       "      <td>5</td>\n",
       "      <td>9015</td>\n",
       "    </tr>\n",
       "    <tr>\n",
       "      <th>98</th>\n",
       "      <td>11</td>\n",
       "      <td>15</td>\n",
       "      <td>14</td>\n",
       "      <td>3</td>\n",
       "      <td>5</td>\n",
       "      <td>8455</td>\n",
       "    </tr>\n",
       "    <tr>\n",
       "      <th>99</th>\n",
       "      <td>9</td>\n",
       "      <td>15</td>\n",
       "      <td>10</td>\n",
       "      <td>3</td>\n",
       "      <td>5</td>\n",
       "      <td>6055</td>\n",
       "    </tr>\n",
       "  </tbody>\n",
       "</table>\n",
       "<p>100 rows × 6 columns</p>\n",
       "</div>"
      ],
      "text/plain": [
       "    age_garage  length  width  height_ceiling  height_gate  price\n",
       "0            9      18     15               5            5  10855\n",
       "1           10      11     15               4            7   6657\n",
       "2            9      15     16               5            5   9655\n",
       "3            9      20     15               6            5  12055\n",
       "4           12      17     13               5            6   8896\n",
       "..         ...     ...    ...             ...          ...    ...\n",
       "95           6      20     11               6            7   8857\n",
       "96           6      21     16               6            7  13497\n",
       "97           8      14     16               6            5   9015\n",
       "98          11      15     14               3            5   8455\n",
       "99           9      15     10               3            5   6055\n",
       "\n",
       "[100 rows x 6 columns]"
      ]
     },
     "execution_count": 16,
     "metadata": {},
     "output_type": "execute_result"
    }
   ],
   "source": [
    "# Создаём сэмпл информации стоимости гаража по возрасту гаража, длине гаража, ширине гаража, высота потолков, высота ворот.\n",
    "n_samples = 800\n",
    "\n",
    "age_garage = np.random.choice(10, n_samples) + 5            # возраст гаража\n",
    "length = np.random.choice(12, n_samples) + 10               # длина гаража\n",
    "width = np.random.choice(8, n_samples) + 10                  # ширина гаража\n",
    "height_ceiling = np.random.choice(4, n_samples) + 3          # высота потолка\n",
    "height_gate = np.random.choice(3, n_samples) + 5             # высота ворот\n",
    "\n",
    "price = length * width * 40 + height_gate + 50\n",
    "\n",
    "data = pd.DataFrame({'age_garage': age_garage, 'length': length, 'width': width, 'height_ceiling': height_ceiling, \n",
    "                     'height_gate':height_gate,'price': price})\n",
    "data.head(100)"
   ]
  },
  {
   "cell_type": "code",
   "execution_count": 17,
   "metadata": {},
   "outputs": [],
   "source": [
    "X = data[['age_garage', 'length', 'width', 'height_ceiling', 'height_gate']]\n",
    "y = data['price']"
   ]
  },
  {
   "cell_type": "code",
   "execution_count": 18,
   "metadata": {},
   "outputs": [
    {
     "data": {
      "text/plain": [
       "LinearRegression()"
      ]
     },
     "execution_count": 18,
     "metadata": {},
     "output_type": "execute_result"
    }
   ],
   "source": [
    "from sklearn.model_selection import train_test_split\n",
    "model = LinearRegression()\n",
    "X_train, X_test, y_train, y_test = train_test_split(X, y, test_size=0.3, random_state=42 )\n",
    "model.fit(X_train, y_train)"
   ]
  },
  {
   "cell_type": "code",
   "execution_count": 22,
   "metadata": {},
   "outputs": [
    {
     "name": "stdout",
     "output_type": "stream",
     "text": [
      "Weights: [  1.15897278 537.92591506 627.63355088  11.56225909   7.84187013]\n",
      "Bias: -8492.025638408344\n",
      "Error абсолютная ошибка предсказания: 227.7651311333245\n"
     ]
    }
   ],
   "source": [
    "# Подставляем в нашу модель все данные для предсказания цены\n",
    "\n",
    "from sklearn.metrics import mean_absolute_error\n",
    "\n",
    "X = data[['age_garage', 'length', 'width', 'height_ceiling', 'height_gate']]\n",
    "y = data['price']\n",
    "reg = LinearRegression().fit(X, y)\n",
    "print('Weights: {}'.format(reg.coef_)) #веса каждого элемента (признака) из переменной Х, определяемые коэффициентами reg.coef_\n",
    "print('Bias: {}'.format(reg.intercept_)) # # Смещение: intercept_ float или массив формы (n_targets,)\n",
    "                                         # Независимый член в линейной модели. Установите 0,0, если .fit_intercept = False\n",
    "\n",
    "pred_values = reg.predict(data[['age_garage', 'length', 'width', 'height_ceiling', 'height_gate']])\n",
    "print(f'Error абсолютная ошибка предсказания: {(mean_absolute_error(pred_values, y))}')"
   ]
  },
  {
   "cell_type": "code",
   "execution_count": 23,
   "metadata": {},
   "outputs": [
    {
     "data": {
      "text/plain": [
       "8216.0"
      ]
     },
     "execution_count": 23,
     "metadata": {},
     "output_type": "execute_result"
    }
   ],
   "source": [
    "y.median()"
   ]
  },
  {
   "cell_type": "code",
   "execution_count": null,
   "metadata": {},
   "outputs": [],
   "source": [
    "#Ошибка большая , уберем один признак -  высоту ворот"
   ]
  },
  {
   "cell_type": "code",
   "execution_count": 26,
   "metadata": {},
   "outputs": [
    {
     "name": "stdout",
     "output_type": "stream",
     "text": [
      "Weights: [  1.33051549 537.82590424 627.69982407]\n",
      "Bias: -8393.772662823958\n",
      "Error абсолютная ошибка предсказания: 228.57447405934116\n"
     ]
    }
   ],
   "source": [
    "X = data[['age_garage', 'length', 'width']]\n",
    "y = data['price']\n",
    "reg = LinearRegression().fit(X, y)\n",
    "print('Weights: {}'.format(reg.coef_))\n",
    "print('Bias: {}'.format(reg.intercept_))\n",
    "\n",
    "pred_values = reg.predict(data[['age_garage', 'length', 'width']])\n",
    "print(f'Error абсолютная ошибка предсказания: {(mean_absolute_error(pred_values, y))}')"
   ]
  },
  {
   "cell_type": "code",
   "execution_count": null,
   "metadata": {},
   "outputs": [],
   "source": [
    "#Ошибка прежняя, не изменилась , значит высота ворот не играет значение "
   ]
  },
  {
   "cell_type": "code",
   "execution_count": null,
   "metadata": {},
   "outputs": [],
   "source": [
    "#Уберем признак - высота потолка "
   ]
  },
  {
   "cell_type": "code",
   "execution_count": null,
   "metadata": {},
   "outputs": [],
   "source": [
    "X = data[['age_garage', 'length', 'width', 'height_ceiling']]\n",
    "y = data['price']\n",
    "reg = LinearRegression().fit(X, y)\n",
    "print('Weights: {}'.format(reg.coef_))\n",
    "print('Bias: {}'.format(reg.intercept_))\n",
    "\n",
    "pred_values = reg.predict(data[['age_garage', 'length', 'width', 'height_ceiling']])\n",
    "print(f'Error абсолютная ошибка предсказания: {(mean_absolute_error(pred_values, y))}')"
   ]
  },
  {
   "cell_type": "code",
   "execution_count": 31,
   "metadata": {},
   "outputs": [
    {
     "data": {
      "text/html": [
       "<div>\n",
       "<style scoped>\n",
       "    .dataframe tbody tr th:only-of-type {\n",
       "        vertical-align: middle;\n",
       "    }\n",
       "\n",
       "    .dataframe tbody tr th {\n",
       "        vertical-align: top;\n",
       "    }\n",
       "\n",
       "    .dataframe thead th {\n",
       "        text-align: right;\n",
       "    }\n",
       "</style>\n",
       "<table border=\"1\" class=\"dataframe\">\n",
       "  <thead>\n",
       "    <tr style=\"text-align: right;\">\n",
       "      <th></th>\n",
       "      <th>age_garage</th>\n",
       "      <th>length</th>\n",
       "      <th>width</th>\n",
       "      <th>height_ceiling</th>\n",
       "      <th>height_gate</th>\n",
       "      <th>price</th>\n",
       "      <th>square</th>\n",
       "      <th>volume_garage</th>\n",
       "      <th>square_garage</th>\n",
       "    </tr>\n",
       "  </thead>\n",
       "  <tbody>\n",
       "    <tr>\n",
       "      <th>0</th>\n",
       "      <td>9</td>\n",
       "      <td>18</td>\n",
       "      <td>15</td>\n",
       "      <td>5</td>\n",
       "      <td>5</td>\n",
       "      <td>10855</td>\n",
       "      <td>1350</td>\n",
       "      <td>1350</td>\n",
       "      <td>270</td>\n",
       "    </tr>\n",
       "    <tr>\n",
       "      <th>1</th>\n",
       "      <td>10</td>\n",
       "      <td>11</td>\n",
       "      <td>15</td>\n",
       "      <td>4</td>\n",
       "      <td>7</td>\n",
       "      <td>6657</td>\n",
       "      <td>660</td>\n",
       "      <td>660</td>\n",
       "      <td>165</td>\n",
       "    </tr>\n",
       "    <tr>\n",
       "      <th>2</th>\n",
       "      <td>9</td>\n",
       "      <td>15</td>\n",
       "      <td>16</td>\n",
       "      <td>5</td>\n",
       "      <td>5</td>\n",
       "      <td>9655</td>\n",
       "      <td>1200</td>\n",
       "      <td>1200</td>\n",
       "      <td>240</td>\n",
       "    </tr>\n",
       "    <tr>\n",
       "      <th>3</th>\n",
       "      <td>9</td>\n",
       "      <td>20</td>\n",
       "      <td>15</td>\n",
       "      <td>6</td>\n",
       "      <td>5</td>\n",
       "      <td>12055</td>\n",
       "      <td>1800</td>\n",
       "      <td>1800</td>\n",
       "      <td>300</td>\n",
       "    </tr>\n",
       "    <tr>\n",
       "      <th>4</th>\n",
       "      <td>12</td>\n",
       "      <td>17</td>\n",
       "      <td>13</td>\n",
       "      <td>5</td>\n",
       "      <td>6</td>\n",
       "      <td>8896</td>\n",
       "      <td>1105</td>\n",
       "      <td>1105</td>\n",
       "      <td>221</td>\n",
       "    </tr>\n",
       "  </tbody>\n",
       "</table>\n",
       "</div>"
      ],
      "text/plain": [
       "   age_garage  length  width  height_ceiling  height_gate  price  square  \\\n",
       "0           9      18     15               5            5  10855    1350   \n",
       "1          10      11     15               4            7   6657     660   \n",
       "2           9      15     16               5            5   9655    1200   \n",
       "3           9      20     15               6            5  12055    1800   \n",
       "4          12      17     13               5            6   8896    1105   \n",
       "\n",
       "   volume_garage  square_garage  \n",
       "0           1350            270  \n",
       "1            660            165  \n",
       "2           1200            240  \n",
       "3           1800            300  \n",
       "4           1105            221  "
      ]
     },
     "execution_count": 31,
     "metadata": {},
     "output_type": "execute_result"
    }
   ],
   "source": [
    "# Создаем новый признак, объем гаража\n",
    "data['volume_garage'] = data['length'] * data['width'] * data['height_ceiling']\n",
    "data.head(5)"
   ]
  },
  {
   "cell_type": "code",
   "execution_count": 33,
   "metadata": {},
   "outputs": [
    {
     "name": "stdout",
     "output_type": "stream",
     "text": [
      "Weights: [-33.87301349   4.76222367]\n",
      "Bias: 4264.528945874804\n",
      "Error абсолютная ошибка предсказания: 1302.6010497726354\n"
     ]
    }
   ],
   "source": [
    "X = data[['age_garage','volume_garage']]\n",
    "y = data['price']\n",
    "reg = LinearRegression().fit(X, y)\n",
    "\n",
    "print('Weights: {}'.format(reg.coef_)) #веса каждого элемента (признака) из переменной Х, определяемые коэффициентами reg.coef_\n",
    "print('Bias: {}'.format(reg.intercept_)) # # Смещение: intercept_ float или массив формы (n_targets,)\n",
    "                                         # Независимый член в линейной модели. Установите 0,0, если .fit_intercept = False\n",
    "\n",
    "\n",
    "pred_values = reg.predict(data[['age_garage','volume_garage']])\n",
    "print(f'Error абсолютная ошибка предсказания: {(mean_absolute_error(pred_values, y))}')"
   ]
  },
  {
   "cell_type": "code",
   "execution_count": null,
   "metadata": {},
   "outputs": [],
   "source": [
    "# ОЧЕНЬ Странно, но ошибка увеличилась еще больше, по теории должна уменьшиться,\n",
    "# так как я ввел третий признак, который включает в себя два самых главных признака и один второстепенный \n",
    "\n",
    "#ВВедем новый признак square и оставим признак height_ceiling"
   ]
  },
  {
   "cell_type": "code",
   "execution_count": 30,
   "metadata": {},
   "outputs": [
    {
     "data": {
      "text/html": [
       "<div>\n",
       "<style scoped>\n",
       "    .dataframe tbody tr th:only-of-type {\n",
       "        vertical-align: middle;\n",
       "    }\n",
       "\n",
       "    .dataframe tbody tr th {\n",
       "        vertical-align: top;\n",
       "    }\n",
       "\n",
       "    .dataframe thead th {\n",
       "        text-align: right;\n",
       "    }\n",
       "</style>\n",
       "<table border=\"1\" class=\"dataframe\">\n",
       "  <thead>\n",
       "    <tr style=\"text-align: right;\">\n",
       "      <th></th>\n",
       "      <th>age_garage</th>\n",
       "      <th>length</th>\n",
       "      <th>width</th>\n",
       "      <th>height_ceiling</th>\n",
       "      <th>height_gate</th>\n",
       "      <th>price</th>\n",
       "      <th>square</th>\n",
       "      <th>volume_garage</th>\n",
       "      <th>square_garage</th>\n",
       "    </tr>\n",
       "  </thead>\n",
       "  <tbody>\n",
       "    <tr>\n",
       "      <th>0</th>\n",
       "      <td>9</td>\n",
       "      <td>18</td>\n",
       "      <td>15</td>\n",
       "      <td>5</td>\n",
       "      <td>5</td>\n",
       "      <td>10855</td>\n",
       "      <td>1350</td>\n",
       "      <td>1350</td>\n",
       "      <td>270</td>\n",
       "    </tr>\n",
       "    <tr>\n",
       "      <th>1</th>\n",
       "      <td>10</td>\n",
       "      <td>11</td>\n",
       "      <td>15</td>\n",
       "      <td>4</td>\n",
       "      <td>7</td>\n",
       "      <td>6657</td>\n",
       "      <td>660</td>\n",
       "      <td>660</td>\n",
       "      <td>165</td>\n",
       "    </tr>\n",
       "    <tr>\n",
       "      <th>2</th>\n",
       "      <td>9</td>\n",
       "      <td>15</td>\n",
       "      <td>16</td>\n",
       "      <td>5</td>\n",
       "      <td>5</td>\n",
       "      <td>9655</td>\n",
       "      <td>1200</td>\n",
       "      <td>1200</td>\n",
       "      <td>240</td>\n",
       "    </tr>\n",
       "    <tr>\n",
       "      <th>3</th>\n",
       "      <td>9</td>\n",
       "      <td>20</td>\n",
       "      <td>15</td>\n",
       "      <td>6</td>\n",
       "      <td>5</td>\n",
       "      <td>12055</td>\n",
       "      <td>1800</td>\n",
       "      <td>1800</td>\n",
       "      <td>300</td>\n",
       "    </tr>\n",
       "    <tr>\n",
       "      <th>4</th>\n",
       "      <td>12</td>\n",
       "      <td>17</td>\n",
       "      <td>13</td>\n",
       "      <td>5</td>\n",
       "      <td>6</td>\n",
       "      <td>8896</td>\n",
       "      <td>1105</td>\n",
       "      <td>1105</td>\n",
       "      <td>221</td>\n",
       "    </tr>\n",
       "  </tbody>\n",
       "</table>\n",
       "</div>"
      ],
      "text/plain": [
       "   age_garage  length  width  height_ceiling  height_gate  price  square  \\\n",
       "0           9      18     15               5            5  10855    1350   \n",
       "1          10      11     15               4            7   6657     660   \n",
       "2           9      15     16               5            5   9655    1200   \n",
       "3           9      20     15               6            5  12055    1800   \n",
       "4          12      17     13               5            6   8896    1105   \n",
       "\n",
       "   volume_garage  square_garage  \n",
       "0           1350            270  \n",
       "1            660            165  \n",
       "2           1200            240  \n",
       "3           1800            300  \n",
       "4           1105            221  "
      ]
     },
     "execution_count": 30,
     "metadata": {},
     "output_type": "execute_result"
    }
   ],
   "source": [
    "# Создаем новый признак, объем гаража\n",
    "data['square_garage'] = data['length'] * data['width'] \n",
    "data.head(5)"
   ]
  },
  {
   "cell_type": "code",
   "execution_count": 34,
   "metadata": {},
   "outputs": [
    {
     "name": "stdout",
     "output_type": "stream",
     "text": [
      "Weights: [8.79185325e-03 4.00004088e+01]\n",
      "Bias: 55.846826234581386\n",
      "Error абсолютная ошибка предсказания: 0.670225405658934\n"
     ]
    }
   ],
   "source": [
    "X = data[['age_garage','square_garage']]\n",
    "y = data['price']\n",
    "reg = LinearRegression().fit(X, y)\n",
    "\n",
    "print('Weights: {}'.format(reg.coef_)) #веса каждого элемента (признака) из переменной Х, определяемые коэффициентами reg.coef_\n",
    "print('Bias: {}'.format(reg.intercept_)) # # Смещение: intercept_ float или массив формы (n_targets,)\n",
    "                                         # Независимый член в линейной модели. Установите 0,0, если .fit_intercept = False\n",
    "\n",
    "\n",
    "pred_values = reg.predict(data[['age_garage','square_garage']])\n",
    "print(f'Error абсолютная ошибка предсказания: {(mean_absolute_error(pred_values, y))}')"
   ]
  },
  {
   "cell_type": "code",
   "execution_count": null,
   "metadata": {},
   "outputs": [],
   "source": [
    "# Ошибка почти равна нулю при двух признаках, это возраст и площадь."
   ]
  }
 ],
 "metadata": {
  "kernelspec": {
   "display_name": "Python 3",
   "language": "python",
   "name": "python3"
  }
 },
 "nbformat": 4,
 "nbformat_minor": 4
}
