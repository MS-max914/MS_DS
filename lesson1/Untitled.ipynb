{
 "cells": [
  {
   "cell_type": "code",
   "execution_count": 40,
   "metadata": {},
   "outputs": [
    {
     "name": "stdout",
     "output_type": "stream",
     "text": [
      "Фраза 1 длиннее фразы 2\n"
     ]
    }
   ],
   "source": [
    "# задание 1\n",
    "phrase_1 = 'Насколько проще было бы писать программы, если бы не заказчики'\n",
    "phrase_2 = '640Кб должно хватить для любых задач. Билл Гейтс (по легенде)'\n",
    "if len('Насколько проще было бы писать программы, если бы не заказчики') > len('640Кб должно хватить для любых задач.Билл Гейтс (по легенде)'):\n",
    "                  print ('Фраза 1 длиннее фразы 2')\n",
    " "
   ]
  },
  {
   "cell_type": "code",
   "execution_count": 43,
   "metadata": {},
   "outputs": [
    {
     "name": "stdout",
     "output_type": "stream",
     "text": [
      "Фраза 2 длиннее фразы 1\n"
     ]
    }
   ],
   "source": [
    "phrase_1 = '640Кб должно хватить для любых задач. Билл Гейтс (по легенде)'\n",
    "phrase_2 = 'Насколько проще было бы писать программы, если бы не заказчики'\n",
    "if len('Насколько проще было бы писать программы, если бы не заказчики') > len('640Кб должно хватить для любых задач.Билл Гейтс (по легенде)'):\n",
    "                  print ('Фраза 2 длиннее фразы 1')"
   ]
  },
  {
   "cell_type": "code",
   "execution_count": 49,
   "metadata": {},
   "outputs": [
    {
     "name": "stdout",
     "output_type": "stream",
     "text": [
      "Фразы равной длины\n"
     ]
    }
   ],
   "source": [
    "phrase_1 = 'Насколько проще было бы писать программы, если бы не заказчики'\n",
    "phrase_2 = 'Насколько проще было бы писать программы, если бы не заказчики'\n",
    "if len('Насколько проще было бы писать программы, если бы не заказчики') == len('Насколько проще было бы писать программы, если бы не заказчики'):\n",
    "                    print ('Фразы равной длины')"
   ]
  },
  {
   "cell_type": "code",
   "execution_count": 67,
   "metadata": {},
   "outputs": [
    {
     "name": "stdout",
     "output_type": "stream",
     "text": [
      "Високосный год\n"
     ]
    }
   ],
   "source": [
    "year = 2020\n",
    "if year == 2020:\n",
    "      print ('Високосный год')"
   ]
  },
  {
   "cell_type": "code",
   "execution_count": 69,
   "metadata": {},
   "outputs": [
    {
     "name": "stdout",
     "output_type": "stream",
     "text": [
      "Обычный год\n"
     ]
    }
   ],
   "source": [
    "year = 2019\n",
    "if year == 2019:\n",
    "      print ('Обычный год')"
   ]
  },
  {
   "cell_type": "code",
   "execution_count": 80,
   "metadata": {},
   "outputs": [
    {
     "name": "stdout",
     "output_type": "stream",
     "text": [
      "введите день15\n",
      "введите месяц9\n",
      "Ваш знак зодиака: Дева\n"
     ]
    }
   ],
   "source": [
    "day_input = int(input('введите день'))\n",
    "month_input = int(input('введите месяц'))\n",
    "if 31 >= day_input >= 23 and month_input == 8 or 1 <= day_input <= 23 and month_input == 9:\n",
    "    print ('Ваш знак зодиака: Дева')\n"
   ]
  },
  {
   "cell_type": "code",
   "execution_count": 82,
   "metadata": {},
   "outputs": [
    {
     "name": "stdout",
     "output_type": "stream",
     "text": [
      "введите день31\n",
      "введите месяц10\n",
      "Ваш знак зодиака: Скорпион\n"
     ]
    }
   ],
   "source": [
    "day_input = int(input('введите день'))\n",
    "month_input = int(input('введите месяц'))\n",
    "if 31 >= day_input >= 24 and month_input == 10 or 1 <= day_input <= 22 and month_input == 11:\n",
    "    print ('Ваш знак зодиака: Скорпион')\n"
   ]
  },
  {
   "cell_type": "code",
   "execution_count": 87,
   "metadata": {},
   "outputs": [
    {
     "name": "stdout",
     "output_type": "stream",
     "text": [
      "Упаковка для лыж\n"
     ]
    }
   ],
   "source": [
    "width = 10\n",
    "length = 205\n",
    "height = 5\n",
    "if width < 15 and length < 15 and height < 15:\n",
    "     print ('Коробка №1')\n",
    "elif 15 < width < 50  or 15 < length < 50  or 15 < height < 50:\n",
    "     print ('Коробка №2')\n",
    "elif length > 200:\n",
    "     print ('Упаковка для лыж')\n",
    "else:\n",
    "     print ('Стандартная коробка №3')"
   ]
  },
  {
   "cell_type": "code",
   "execution_count": 93,
   "metadata": {},
   "outputs": [
    {
     "name": "stdout",
     "output_type": "stream",
     "text": [
      "Неасчастливый билет\n"
     ]
    }
   ],
   "source": [
    "number = 123456\n",
    "a = 1\n",
    "b = 2\n",
    "c = 3\n",
    "d = 4\n",
    "e = 5\n",
    "f = 6\n",
    "if (a+b+c) != (d+e+f):\n",
    "    print ('Неасчастливый билет')"
   ]
  },
  {
   "cell_type": "code",
   "execution_count": 90,
   "metadata": {},
   "outputs": [
    {
     "name": "stdout",
     "output_type": "stream",
     "text": [
      "Счастливый билет\n"
     ]
    }
   ],
   "source": [
    "number = 123456\n",
    "a = 1\n",
    "b = 2\n",
    "c = 3\n",
    "d = 3\n",
    "e = 2\n",
    "f = 1\n",
    "if (a+b+c) == (d+e+f):\n",
    "    print ('Счастливый билет')"
   ]
  }
 ],
 "metadata": {
  "kernelspec": {
   "display_name": "Python 3",
   "language": "python",
   "name": "python3"
  },
  "language_info": {
   "codemirror_mode": {
    "name": "ipython",
    "version": 3
   },
   "file_extension": ".py",
   "mimetype": "text/x-python",
   "name": "python",
   "nbconvert_exporter": "python",
   "pygments_lexer": "ipython3",
   "version": "3.8.5"
  }
 },
 "nbformat": 4,
 "nbformat_minor": 4
}
