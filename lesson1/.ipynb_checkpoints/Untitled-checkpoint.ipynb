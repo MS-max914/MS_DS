{
 "cells": [
  {
   "cell_type": "code",
   "execution_count": 13,
   "metadata": {},
   "outputs": [
    {
     "name": "stdout",
     "output_type": "stream",
     "text": [
      "Фраза 1 длиннее фразы 2\n"
     ]
    }
   ],
   "source": [
    "# задание 1\n",
    "phrase_1 = 'Насколько проще было бы писать программы, если бы не заказчики'\n",
    "phrase_2 = '640Кб должно хватить для любых задач. Билл Гейтс (по легенде)'\n",
    "if len('Насколько проще было бы писать программы, если бы не заказчики') > len('640Кб должно хватить для любых задач.Билл Гейтс (по легенде)'):\n",
    "                  print ('Фраза 1 длиннее фразы 2')\n",
    "elif len('Насколько проще было бы писать программы, если бы не заказчики') > len('640Кб должно хватить для любых задач.Билл Гейтс (по легенде)'):\n",
    "                  print ('Фраза 2 длиннее фразы 1')\n",
    "elif len('Насколько проще было бы писать программы, если бы не заказчики') == len('Насколько проще было бы писать программы, если бы не заказчики'):\n",
    "                 print ('Фразы равной длины')\n",
    "else:\n",
    "                 print ('конец программы')\n",
    " "
   ]
  },
  {
   "cell_type": "code",
   "execution_count": 36,
   "metadata": {},
   "outputs": [
    {
     "name": "stdout",
     "output_type": "stream",
     "text": [
      "введите год2019\n",
      "Обычный год\n"
     ]
    }
   ],
   "source": [
    " year_input = int(input('введите год'))\n",
    "if year_input % 4 == 0 or year_input % 400 == 0:\n",
    "          print ('Високосный год')\n",
    "else: \n",
    "          print ('Обычный год')\n"
   ]
  },
  {
   "cell_type": "code",
   "execution_count": 41,
   "metadata": {},
   "outputs": [
    {
     "name": "stdout",
     "output_type": "stream",
     "text": [
      "введите день28\n",
      "введите месяциюнь\n",
      "Ваш знак зодиака: Рак\n"
     ]
    }
   ],
   "source": [
    "day_input = int(input('введите день'))\n",
    "month_input = (input('введите месяц'))\n",
    "if 31 >= day_input >= 23 and month_input == 'Август' or 1 <= day_input <= 23 and month_input == 'Сентябрь':\n",
    "    print ('Ваш знак зодиака: Дева')\n",
    "elif 31 >= day_input >= 24 and month_input == 'Октябрь' or 1 <= day_input <= 22 and month_input == 'Ноябрь':\n",
    "    print ('Ваш знак зодиака: Скорпион')\n",
    "elif 30 >= day_input >= 24 and month_input == 'Сентябрь' or 1 <= day_input <= 23 and month_input == 'Октябрь':\n",
    "    print ('Ваш знак зодиака: Весы')\n",
    "elif 30 >= day_input >= 23 and month_input == 'Ноябрь' or 1 <= day_input <= 22 and month_input == 'Декабрь':\n",
    "    print ('Ваш знак зодиака: Стрелец')\n",
    "elif 31 >= day_input >= 23 and month_input == 'Декабрь' or 1 <= day_input <= 20 and month_input == 'Январь':\n",
    "    print ('Ваш знак зодиака: Козерог')\n",
    "elif 31 >= day_input >= 21 and month_input == 'Январь' or 1 <= day_input <= 19 and month_input == 'Февраль':\n",
    "    print ('Ваш знак зодиака: Водолей')\n",
    "elif 28 >= day_input >= 20 and month_input == 'Февраль' or 1 <= day_input <= 20 and month_input == 'Март':\n",
    "    print ('Ваш знак зодиака: Рыба')\n",
    "elif 31 >= day_input >= 23 and month_input == 'Июль' or 1 <= day_input <= 21 and month_input == 'Август':\n",
    "    print ('Ваш знак зодиака: Лев')\n",
    "elif 31 >= day_input >= 22 and month_input == 'Май' or 1 <= day_input <= 21 and month_input == 'Июнь':\n",
    "    print ('Ваш знак зодиака: Близнецы')\n",
    "elif 30 >= day_input >= 21 and month_input == 'Апрель' or 1 <= day_input <= 21 and month_input == 'Май':\n",
    "    print ('Ваш знак зодиака: Телец')\n",
    "elif 31 >= day_input >= 21 and month_input == 'Март' or 1 <= day_input <= 20 and month_input == 'Апрель':\n",
    "    print ('Ваш знак зодиака: Овен')\n",
    "else:\n",
    "    print ('Ваш знак зодиака: Рак')"
   ]
  },
  {
   "cell_type": "code",
   "execution_count": 43,
   "metadata": {},
   "outputs": [
    {
     "name": "stdout",
     "output_type": "stream",
     "text": [
      "Упаковка для лыж\n"
     ]
    }
   ],
   "source": [
    "width = 45\n",
    "length = 205\n",
    "height = 45\n",
    "if width < 15 and length < 15 and height < 15:\n",
    "     print ('Коробка №1')\n",
    "elif length > 200:\n",
    "     print ('Упаковка для лыж')\n",
    "elif 15 < width < 50  or 15 < length < 50  or 15 < height < 50:\n",
    "     print ('Коробка №2')\n",
    "else:\n",
    "     print ('Стандартная коробка №3')"
   ]
  },
  {
   "cell_type": "code",
   "execution_count": 50,
   "metadata": {},
   "outputs": [
    {
     "name": "stdout",
     "output_type": "stream",
     "text": [
      "введите число123321\n",
      "Счастливый билет\n"
     ]
    }
   ],
   "source": [
    " number = int(input('введите число'))\n",
    "num_1 = number // 100000\n",
    "num_2 = number % 100000 // 10000\n",
    "num_3 = number % 10000 // 1000\n",
    "num_4 = number % 1000 //100\n",
    "num_5 = number % 100 // 10\n",
    "num_6 = number % 10 //1\n",
    "if (num_1 + num_2 + num_3) == (num_4 + num_5 + num_6):\n",
    "    print ('Счастливый билет')\n",
    "else:\n",
    "    print ('Несчастливый билет')"
   ]
  }
 ],
 "metadata": {
  "kernelspec": {
   "display_name": "Python 3",
   "language": "python",
   "name": "python3"
  },
  "language_info": {
   "codemirror_mode": {
    "name": "ipython",
    "version": 3
   },
   "file_extension": ".py",
   "mimetype": "text/x-python",
   "name": "python",
   "nbconvert_exporter": "python",
   "pygments_lexer": "ipython3",
   "version": "3.8.5"
  }
 },
 "nbformat": 4,
 "nbformat_minor": 4
}
